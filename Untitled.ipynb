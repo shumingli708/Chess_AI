{
 "cells": [
  {
   "cell_type": "code",
   "execution_count": 4,
   "metadata": {
    "collapsed": true
   },
   "outputs": [],
   "source": [
    "def uniq(lst):\n",
    "    uni = []\n",
    "    for i in range(len(lst)):\n",
    "        if lst[i] not in lst:\n",
    "            uni += lst[i]\n",
    "    return(uni)"
   ]
  },
  {
   "cell_type": "code",
   "execution_count": 15,
   "metadata": {
    "collapsed": true
   },
   "outputs": [],
   "source": [
    "#### find first unique num/character in a list "
   ]
  },
  {
   "cell_type": "code",
   "execution_count": 70,
   "metadata": {
    "collapsed": true
   },
   "outputs": [],
   "source": [
    "class item:\n",
    "    def __init__(self, lst):\n",
    "        self.lst = lst\n",
    "#     def __repr__(self):\n",
    "#         s = str(self.lst)\n",
    "#         return(s)\n",
    "    def print(self):\n",
    "        print(self.lst)\n",
    "    def unique_item(self):\n",
    "        dict_item = {}\n",
    "        unique_item_lst = []\n",
    "        for i in range(len(self.lst)):\n",
    "            if self.lst[i] in dict_item.keys():\n",
    "                dict_item[self.lst[i]] += 1\n",
    "            else:\n",
    "                dict_item[self.lst[i]] = 1\n",
    "        for key in dict_item.keys():\n",
    "            if dict_item[key] ==1:\n",
    "                unique_item_lst.append(key)\n",
    "        return(unique_item_lst)\n",
    "    def all_freq(self):\n",
    "        dict_item = {}\n",
    "        unique_item_lst = []\n",
    "        for i in range(len(self.lst)):\n",
    "            if self.lst[i] in dict_item.keys():\n",
    "                dict_item[self.lst[i]] += 1\n",
    "            else:\n",
    "                dict_item[self.lst[i]] = 1\n",
    "        return(dict_item)\n",
    "    def append_new_item(self, new_item):\n",
    "        self.lst += [new_item]"
   ]
  },
  {
   "cell_type": "code",
   "execution_count": 48,
   "metadata": {
    "collapsed": false
   },
   "outputs": [],
   "source": [
    "def uniq_2(lst):\n",
    "    if len(lst)==1:\n",
    "        return([])\n",
    "    else:\n",
    "        if lst[0] in lst[1:]:\n",
    "            return(uniq_2(lst[1:]))\n",
    "        else:\n",
    "            return([lst[0]]+uniq_2(lst[1:]))"
   ]
  },
  {
   "cell_type": "code",
   "execution_count": 63,
   "metadata": {
    "collapsed": false
   },
   "outputs": [],
   "source": [
    "class day:\n",
    "    def __init__(self,day,mo,yr):\n",
    "        self.day= day\n",
    "        self.mo = mo\n",
    "        self.yr = yr\n",
    "    def __repr__(self):\n",
    "        return(str(day)+)\n",
    "\n",
    "        \n",
    "#     def compare_date(self,day,mon,yr,d2.day,d2.mon,d2.yr):\n",
    "#         if self.yr > d2.year:\n",
    "#             return(True)\n",
    "#         e\n",
    "        \n",
    "        "
   ]
  },
  {
   "cell_type": "code",
   "execution_count": 80,
   "metadata": {
    "collapsed": false
   },
   "outputs": [],
   "source": [
    "abc = ['dog', 'Fido', 10] \n",
    "animal = abc[0]\n",
    "name = abc[1]\n",
    "age = abc[2]\n",
    "output = ('{name} the {animal} is {age} years old'.format( animal=animal, name=name, age=age))"
   ]
  },
  {
   "cell_type": "code",
   "execution_count": 81,
   "metadata": {
    "collapsed": false
   },
   "outputs": [
    {
     "data": {
      "text/plain": [
       "'Fido the dog is 10 years old'"
      ]
     },
     "execution_count": 81,
     "metadata": {},
     "output_type": "execute_result"
    }
   ],
   "source": [
    "output"
   ]
  },
  {
   "cell_type": "code",
   "execution_count": 82,
   "metadata": {
    "collapsed": false
   },
   "outputs": [
    {
     "ename": "SyntaxError",
     "evalue": "invalid syntax (<ipython-input-82-4cc84fde7145>, line 3)",
     "output_type": "error",
     "traceback": [
      "\u001b[0;36m  File \u001b[0;32m\"<ipython-input-82-4cc84fde7145>\"\u001b[0;36m, line \u001b[0;32m3\u001b[0m\n\u001b[0;31m    output = ('{data['name']} the {data['animal']} is {data['age']} years old'.format(data=data))\u001b[0m\n\u001b[0m                         ^\u001b[0m\n\u001b[0;31mSyntaxError\u001b[0m\u001b[0;31m:\u001b[0m invalid syntax\n"
     ]
    }
   ],
   "source": [
    "abc = ['dog','Fido',10]\n",
    "data = {'name':abc[1],'animal':abc[0],'age':abc[2]}\n",
    "output = ('{data['name']} the {data['animal']} is {data['age']} years old'.format(data=data))"
   ]
  },
  {
   "cell_type": "code",
   "execution_count": 88,
   "metadata": {
    "collapsed": true
   },
   "outputs": [],
   "source": [
    "def app_op(left_op,right_op,op):\n",
    "    result = str(left_op)+op+str(right_op)\n",
    "    return(eval(result))"
   ]
  },
  {
   "cell_type": "code",
   "execution_count": 92,
   "metadata": {
    "collapsed": false
   },
   "outputs": [
    {
     "data": {
      "text/plain": [
       "8"
      ]
     },
     "execution_count": 92,
     "metadata": {},
     "output_type": "execute_result"
    }
   ],
   "source": [
    "app_op(4,2,'*')"
   ]
  },
  {
   "cell_type": "code",
   "execution_count": null,
   "metadata": {
    "collapsed": true
   },
   "outputs": [],
   "source": []
  }
 ],
 "metadata": {
  "anaconda-cloud": {},
  "kernelspec": {
   "display_name": "Python [conda root]",
   "language": "python",
   "name": "conda-root-py"
  },
  "language_info": {
   "codemirror_mode": {
    "name": "ipython",
    "version": 3
   },
   "file_extension": ".py",
   "mimetype": "text/x-python",
   "name": "python",
   "nbconvert_exporter": "python",
   "pygments_lexer": "ipython3",
   "version": "3.5.2"
  }
 },
 "nbformat": 4,
 "nbformat_minor": 1
}
